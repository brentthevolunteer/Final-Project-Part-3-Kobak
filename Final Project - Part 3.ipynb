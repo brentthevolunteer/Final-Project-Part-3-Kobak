{
 "cells": [
  {
   "cell_type": "markdown",
   "metadata": {},
   "source": [
    "### Goal: Merge the data sets below into one clean data set that can be used to basic exploratory data analysis.\n",
    "\n",
    "## Data Sets Used\n",
    "\n",
    "**Fire Incidents (2010-2017)**\n",
    "Catalogues all fire incidents to which the PFD was called. Why: Fire Incidents are what we will be trying to predict and therefore will be used to evaluate the accuracy of our model.\n",
    "Peoria Fire Department\n",
    "\n",
    "**Fire Inspections\n",
    "(2010-2017)**\n",
    "Catalogues inspection results for non-residential buildings Why: How long ago an inspection occured may impact the risk of a fire in the near future.\n",
    "Peoria Fire Department\n",
    "\n",
    "**Building Characteristics**\n",
    "Catalogues several characteristics of all buildings, such as year built, square footage, etc. Why: Some building characteristics may impact the risk of a fire in the future. For example, older buildings may contain knob-and-tube electrical wiring, which is less safe than modern electrical wiring.\n",
    "Peoria County GIS Department / City of Peoria Information Systems Department\n",
    "\n",
    "_Optional_\n",
    "\n",
    "**Code Violations**\n",
    "(Dates?)\n",
    "Catalogues ordinance violations found when inspecting buildings Why: Code violations may point to issues that could cause a fire, such as exposed electrical wiring.\n",
    "City of Peoria Community Development Department\n",
    "\n",
    "## My thought process\n",
    "We have 3 main data sets that we'll be using for the exploratory data analysis (EDA) but they all have a variety of column names. In addition, our inspections data is split between 2010-2016 data and 2017 data, in spreadsheets that have different columns.\n",
    "\n",
    "Names of the datasets that we're working with:\n",
    "1. roland_fire_join.csv - commercial buildings in the city with firezone id and firestation\n",
    "2. addresses_commercialbuildings_peoria.csv - characteristics of commercial buildings in Peoria\n",
    "3. incidents_of_fire_2010_to_2017.csv - incidents of fire between the years of 2010-2017\n",
    "4. inspection_data_2017.csv - fire inspections in 2017\n",
    "5. inspections_data_before_2017.csv - fire inspections from 2010 to 2016\n"
   ]
  },
  {
   "cell_type": "code",
   "execution_count": 1,
   "metadata": {
    "collapsed": true
   },
   "outputs": [],
   "source": [
    "\n"
   ]
  },
  {
   "cell_type": "code",
   "execution_count": null,
   "metadata": {
    "collapsed": true
   },
   "outputs": [],
   "source": []
  }
 ],
 "metadata": {
  "kernelspec": {
   "display_name": "Python 3",
   "language": "python",
   "name": "python3"
  },
  "language_info": {
   "codemirror_mode": {
    "name": "ipython",
    "version": 3
   },
   "file_extension": ".py",
   "mimetype": "text/x-python",
   "name": "python",
   "nbconvert_exporter": "python",
   "pygments_lexer": "ipython3",
   "version": "3.6.3"
  }
 },
 "nbformat": 4,
 "nbformat_minor": 2
}
